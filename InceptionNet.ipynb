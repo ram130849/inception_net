{
  "nbformat": 4,
  "nbformat_minor": 0,
  "metadata": {
    "colab": {
      "provenance": [],
      "machine_shape": "hm",
      "authorship_tag": "ABX9TyMhxhg4cI5SoDAjWMYuY8PI",
      "include_colab_link": true
    },
    "kernelspec": {
      "name": "python3",
      "display_name": "Python 3"
    },
    "language_info": {
      "name": "python"
    },
    "gpuClass": "standard"
  },
  "cells": [
    {
      "cell_type": "markdown",
      "metadata": {
        "id": "view-in-github",
        "colab_type": "text"
      },
      "source": [
        "<a href=\"https://colab.research.google.com/github/ram130849/inception_net/blob/main/InceptionNet.ipynb\" target=\"_parent\"><img src=\"https://colab.research.google.com/assets/colab-badge.svg\" alt=\"Open In Colab\"/></a>"
      ]
    },
    {
      "cell_type": "code",
      "execution_count": 4,
      "metadata": {
        "id": "wSW3FAXIspyl"
      },
      "outputs": [],
      "source": [
        "import tensorflow as tf\n",
        "import tensorflow.keras as keras\n",
        "from tensorflow.keras.layers import Layer\n",
        "import keras.backend as K\n",
        "from keras.datasets import cifar10\n",
        "import matplotlib.pyplot as plt"
      ]
    },
    {
      "cell_type": "code",
      "source": [
        "from keras.models import Model\n",
        "from keras.layers import Conv2D, MaxPool2D,Dropout,Dense,Input,concatenate,GlobalAveragePooling2D,AveragePooling2D,Flatten\n",
        "from keras.layers.pooling.max_pooling2d import MaxPooling2D\n",
        "import cv2\n",
        "import numpy as np\n",
        "from keras.datasets import cifar10\n",
        "from keras import backend as k\n",
        "from keras.utils import np_utils\n",
        "import math\n",
        "from keras.optimizers import Adam\n",
        "from keras.callbacks import LearningRateScheduler"
      ],
      "metadata": {
        "id": "sxctTABGssaV"
      },
      "execution_count": 5,
      "outputs": []
    },
    {
      "cell_type": "code",
      "source": [
        "no_classes = 10\n",
        "def load_cifar10_data(rows,cols):\n",
        "    (x_train,y_train),(x_test,y_test) = cifar10.load_data()\n",
        "    x_train = np.array([cv2.resize(img,(rows,cols)) for img in x_train[:,:,:,:]])\n",
        "    x_test = np.array([cv2.resize(img,(rows,cols)) for img in x_test[:,:,:,:]])\n",
        "    y_train = np_utils.to_categorical(y_train,no_classes)\n",
        "    y_test = np_utils.to_categorical(y_test,no_classes)\n",
        "    x_train = x_train.astype('float32')\n",
        "    x_test = x_test.astype('float32')\n",
        "    x_train = x_train/255.0\n",
        "    x_test = x_test/255.0\n",
        "    return x_train,y_train,x_test,y_test"
      ],
      "metadata": {
        "id": "9jFszobassiT"
      },
      "execution_count": 4,
      "outputs": []
    },
    {
      "cell_type": "code",
      "source": [
        "X_train, y_train, X_test, y_test = load_cifar10_data(224, 224)"
      ],
      "metadata": {
        "id": "m6CHT64nssot"
      },
      "execution_count": null,
      "outputs": []
    },
    {
      "cell_type": "code",
      "source": [
        "def inception(x,filters1,filters3,filters3_reduce,filters5,filters5_reduce,filters_pool_proj,kernel_init,bias_init,name=None):\n",
        "    conv1 = Conv2D(filters1,(1,1),padding='same',activation='relu',kernel_initializer=kernel_init,bias_initializer=bias_init)\n",
        "    conv3_r = Conv2D(filters3_reduce,(1,1),padding='same',activation='relu',kernel_initializer=kernel_init,bias_initializer=bias_init)\n",
        "    conv3 = Conv2D(filters3,(3,3),padding='same',activation='relu',kernel_initializer=kernel_init,bias_initializer=bias_init)\n",
        "    conv5_r = Conv2D(filters5_reduce,(1,1),padding='same',activation='relu',kernel_initializer=kernel_init,bias_initializer=bias_init)\n",
        "    conv5 = Conv2D(filters5,(5,5),padding='same',activation='relu',kernel_initializer=kernel_init,bias_initializer=bias_init)\n",
        "    pool_proj = MaxPool2D((3,3),strides=(1,1),padding='same')(x)\n",
        "    pool_proj = Conv2D(filters_pool_proj,(1,1),padding='same',activation='relu',kernel_initializer=kernel_init,bias_initializer=bias_init)(x)\n",
        "    output = concatenate([conv1,conv3,conv3_r,conv5,conv5_r,pool_proj],axis=3,name=name)(pool_proj)\n",
        "    return output"
      ],
      "metadata": {
        "id": "JD5VF40lssuF"
      },
      "execution_count": null,
      "outputs": []
    },
    {
      "cell_type": "code",
      "source": [
        "kernel_init = keras.initializers.glorot_normal()\n",
        "bias_init = keras.initializers.Constant(value=0.2)"
      ],
      "metadata": {
        "id": "6HTFT6TZsszU"
      },
      "execution_count": null,
      "outputs": []
    },
    {
      "cell_type": "code",
      "source": [
        "input_layer = Input(shape=(224,224,3))\n",
        "x = Conv2D(64,(7,7),padding='same',strides=(2,2),\n",
        "           activation='relu',kernel_initializer=kernel_init,\n",
        "           bias_initializer=bias_init,name='conv1')(input_layer)\n",
        "x = MaxPool2D((3,3),padding='same',strides=(2,2),\n",
        "              activation='relu',kernel_initializer=kernel_init,\n",
        "              bias_initializer=bias_init,name='maxpool1')(x)\n",
        "x = Conv2D(64,(1,1),padding='same',strides=(1,1),\n",
        "           activation='relu',kernel_initializer=kernel_init,\n",
        "           bias_initializer=bias_init,name='conv2a')(x)\n",
        "x = Conv2D(192,(3,3),padding='same',strides=(2,2),\n",
        "           activation='relu',kernel_initializer=kernel_init,\n",
        "           bias_initializer=bias_init,name='conv2b')(x)\n",
        "x = MaxPool2D((3,3),padding='same',strides=(2,2),activation='relu',name='maxpool2')(x)\n",
        "x = inception(x,filters1=64,filters3=128,filters3_reduce=96,\n",
        "              filters5=32,filters5_reduce=16,filters_pool_proj=32,\n",
        "              kernel_init=kernel_init,bias_init=bias_init,\n",
        "              name='inception_3a')\n",
        "x = inception(x,filters1=128,filters3=192,filters3_reduce=128,\n",
        "              filters5=96,filters5_reduce=32,filters_pool_proj=64,\n",
        "              kernel_init=kernel_init,bias_init=bias_init,\n",
        "              name='inception_3b')\n",
        "x = MaxPool2D((3,3),padding='same',strides=(2,2),name='maxpool_3')(x)\n",
        "x = inception(x,filters1=192,filters3=208,filters3_reduce=96,\n",
        "              filters5=48,filters5_reduce=16,filters_pool_proj=64,\n",
        "              name='inception_4a'\n",
        "              )\n",
        "x1 = AveragePooling2D((5,5),strides=3)(x)\n",
        "x1 = Conv2D(128,(1,1),padding='same',activation='relu')(x1)\n",
        "x1 = Flatten()(x1)\n",
        "x1 = Dense(1024,activation='relu')(x1)\n",
        "x1 = Dropout(0.7)(x1)\n",
        "x1 = Dense(10,activation='softmax',name='auxillary_output_1')(x1)\n",
        "x = inception(x,filters1=160,filters3=224,filters3_reduce=112,\n",
        "              filters5=64,filters5_reduce=24,filters_pool_proj=64,\n",
        "              name='inception4b')\n",
        "x = inception(x,filters1=128,filters3=256,filters3_reduce=128,\n",
        "              filters5=64,filters5_reduce=24,filters_pool_proj=64,\n",
        "              name='inception4c')\n",
        "x = inception(x,filters1=112,filters3=288,filters3_reduce=144,\n",
        "              filters5=64,filters5_reduce=32,filters_pool_proj=64,\n",
        "              name='inception4d')\n",
        "x2 = AveragePooling2D((5,5),strides=3)(x)\n",
        "x2 = Conv2D(128,(1,1),padding='same',activation='relu')(x2)\n",
        "x2 = Flatten()(x2)\n",
        "x2 = Dense(1024,activation='relu',kernel_initializer=kernel_init,bias_initializer=bias_init)(x2)\n",
        "x2 = Dropout(0.7)(x2)\n",
        "x2 = Dense(10,activation='softmax',kernel_initializer=kernel_init,bias_initializer=bias_init,name='auxillary_output_2')(x2)\n",
        "x = inception(x,filters1=256,filters3=320,filters3_reduce=160,filters5=128,\n",
        "                fitlers5_reduce=32,filters_pool_proj=128,name='inception_4e')(x2)\n",
        "x = MaxPool2D((3,3),padding='same',strides=(2,2),name='maxpool4')(x)\n",
        "x = inception(x,filters1=256,filters3=320,filters3_reduce=160,filters5=128,\n",
        "                filters5_reduce=32,filters_pool_proj=128,name='inception_5a')\n",
        "x = inception(x,filters1=384,filters3=384,filters3_reduce=192,filters5=128,\n",
        "                filters5_reduce=48,filters_pool_proj=128,name='inception5b')\n",
        "x = GlobalAveragePooling2D(name='avg_pool5')(x)\n",
        "x = Dropout(0.4)(x)\n",
        "x = Dense(10,activation='softmax',name='output')(x)"
      ],
      "metadata": {
        "id": "bl5-PEtEss3y"
      },
      "execution_count": null,
      "outputs": []
    },
    {
      "cell_type": "code",
      "source": [
        "model = Model(input_layer,[x,x1,x2],name='inception_v1')\n",
        "model.summary()"
      ],
      "metadata": {
        "id": "hV-ofTHDss79"
      },
      "execution_count": null,
      "outputs": []
    },
    {
      "cell_type": "code",
      "source": [
        "epochs = 100\n",
        "initial_lrate = 0.01"
      ],
      "metadata": {
        "id": "cueF7qn3stBK"
      },
      "execution_count": 1,
      "outputs": []
    },
    {
      "cell_type": "code",
      "source": [
        "def decay(epoch, steps=100):\n",
        "    initial_lrate = 0.01\n",
        "    drop = 0.96\n",
        "    epochs_drop = 8\n",
        "    lrate = initial_lrate * math.pow(drop, math.floor((1+epoch)/epochs_drop))\n",
        "    return lrate"
      ],
      "metadata": {
        "id": "Yn-bDx2qstF_"
      },
      "execution_count": 2,
      "outputs": []
    },
    {
      "cell_type": "code",
      "source": [
        "adam = Adam(lr=initial_lrate, momentum=0.9)\n",
        "\n",
        "lr_sc = LearningRateScheduler(decay, verbose=1)\n",
        "\n",
        "model.compile(loss=['categorical_crossentropy', 'categorical_crossentropy', 'categorical_crossentropy'],\n",
        "              loss_weights=[1, 0.3, 0.3], optimizer=adam, metrics=['accuracy'])"
      ],
      "metadata": {
        "id": "QP4X2NBostKt"
      },
      "execution_count": null,
      "outputs": []
    },
    {
      "cell_type": "code",
      "source": [
        "history = model.fit(X_train, [y_train, y_train, y_train], validation_data=(X_test, [y_test, y_test, y_test]), epochs=epochs, batch_size=256, callbacks=[lr_sc])"
      ],
      "metadata": {
        "id": "5VsZSbPystPp"
      },
      "execution_count": null,
      "outputs": []
    },
    {
      "cell_type": "code",
      "source": [
        "def plot_model_history(train_history,val_history,train_loss_history,val_loss_history):\n",
        "    plt.plot(train_history, marker='o')\n",
        "    plt.plot(val_history, marker='o')\n",
        "    plt.title('model accuracy')\n",
        "    plt.ylabel('accuracy')\n",
        "    plt.xlabel('epoch')\n",
        "    plt.legend(['train', 'validation'], loc='upper left')\n",
        "    plt.show()\n",
        "    \n",
        "    # plot Loss\n",
        "    plt.plot(train_loss_history, marker='8')\n",
        "    plt.plot(val_loss_history, marker='8')\n",
        "    plt.title('model loss')\n",
        "    plt.ylabel('loss')\n",
        "    plt.xlabel('epoch')\n",
        "    plt.legend(['train', 'validation'], loc='upper left')\n",
        "    plt.show()"
      ],
      "metadata": {
        "id": "sSf9AoEcstU3"
      },
      "execution_count": 6,
      "outputs": []
    },
    {
      "cell_type": "code",
      "source": [],
      "metadata": {
        "id": "hXM7pHa_staa"
      },
      "execution_count": null,
      "outputs": []
    },
    {
      "cell_type": "code",
      "source": [],
      "metadata": {
        "id": "lBFI5iWPsteu"
      },
      "execution_count": null,
      "outputs": []
    },
    {
      "cell_type": "code",
      "source": [],
      "metadata": {
        "id": "sg9Hlg03sti3"
      },
      "execution_count": null,
      "outputs": []
    },
    {
      "cell_type": "code",
      "source": [],
      "metadata": {
        "id": "Y170I1jystnD"
      },
      "execution_count": null,
      "outputs": []
    },
    {
      "cell_type": "code",
      "source": [],
      "metadata": {
        "id": "zx_Gc96cstr8"
      },
      "execution_count": null,
      "outputs": []
    }
  ]
}